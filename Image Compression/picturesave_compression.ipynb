{
 "cells": [
  {
   "cell_type": "code",
   "execution_count": 10,
   "metadata": {},
   "outputs": [
    {
     "name": "stdout",
     "output_type": "stream",
     "text": [
      "The compression ratio is 0.21581621199145248\n"
     ]
    }
   ],
   "source": [
    "import os\n",
    "from PIL import Image \n",
    "\n",
    "# open the image \n",
    "picture = Image.open('ss_bird_honeycreeper.jpg') \n",
    "picture.save(\"Compressed_ss_bird_honeycreeper.jpg\",\"JPEG\",optimize = True,quality = 10) \n",
    "\n",
    "compression_ratio = os.path.getsize('Compressed_ss_bird_honeycreeper.jpg')/os.path.getsize('ss_bird_honeycreeper.jpg')\n",
    "print('The compression ratio is',compression_ratio)"
   ]
  },
  {
   "cell_type": "code",
   "execution_count": 22,
   "metadata": {},
   "outputs": [
    {
     "name": "stdout",
     "output_type": "stream",
     "text": [
      "The compression ratio is 0.03946678688249602\n"
     ]
    }
   ],
   "source": [
    "picture = Image.open('Pic2.jpg') \n",
    "picture.save(\"Compressed_Pic2.jpg\",\"JPEG\",optimize = True,quality = 1) \n",
    "\n",
    "compression_ratio = os.path.getsize('Compressed_Pic2.jpg')/os.path.getsize('Pic2.jpg')\n",
    "print('The compression ratio is',compression_ratio)"
   ]
  },
  {
   "cell_type": "code",
   "execution_count": 16,
   "metadata": {},
   "outputs": [
    {
     "name": "stdout",
     "output_type": "stream",
     "text": [
      "The compression ratio is 0.013685650757131282\n"
     ]
    }
   ],
   "source": [
    " picture = Image.open('LS2.jpg') \n",
    "picture.save(\"Compressed_LS2.jpg\",\"JPEG\",optimize = True,quality = 1) \n",
    "\n",
    "compression_ratio = os.path.getsize('Compressed_LS2.jpg')/os.path.getsize('LS2.jpg')\n",
    "print('The compression ratio is',compression_ratio)"
   ]
  }
 ],
 "metadata": {
  "kernelspec": {
   "display_name": "Python 3",
   "language": "python",
   "name": "python3"
  },
  "language_info": {
   "codemirror_mode": {
    "name": "ipython",
    "version": 3
   },
   "file_extension": ".py",
   "mimetype": "text/x-python",
   "name": "python",
   "nbconvert_exporter": "python",
   "pygments_lexer": "ipython3",
   "version": "3.7.6"
  }
 },
 "nbformat": 4,
 "nbformat_minor": 4
}
